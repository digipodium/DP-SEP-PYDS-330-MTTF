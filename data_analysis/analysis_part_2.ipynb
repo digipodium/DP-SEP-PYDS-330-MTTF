{
 "cells": [
  {
   "cell_type": "code",
   "execution_count": 1,
   "metadata": {},
   "outputs": [],
   "source": [
    "import numpy as np\n",
    "import pandas as pd\n",
    "import matplotlib.pyplot as plt"
   ]
  },
  {
   "cell_type": "code",
   "execution_count": 2,
   "metadata": {},
   "outputs": [],
   "source": [
    "reportdf = pd.read_excel('data/report.xlsx')"
   ]
  },
  {
   "cell_type": "code",
   "execution_count": 3,
   "metadata": {},
   "outputs": [
    {
     "data": {
      "text/plain": [
       "['Student', 'Hindi', 'English', 'Maths', 'Science']"
      ]
     },
     "execution_count": 3,
     "metadata": {},
     "output_type": "execute_result"
    }
   ],
   "source": [
    "reportdf.columns.tolist()"
   ]
  },
  {
   "cell_type": "code",
   "execution_count": 4,
   "metadata": {},
   "outputs": [],
   "source": [
    "reportdf['Total'] = reportdf['Hindi'] + reportdf['English'] + reportdf['Maths'] + reportdf['Science']"
   ]
  },
  {
   "cell_type": "code",
   "execution_count": 5,
   "metadata": {},
   "outputs": [],
   "source": [
    "reportdf['pct'] = reportdf['Total'] / 400 * 100"
   ]
  },
  {
   "cell_type": "code",
   "execution_count": 6,
   "metadata": {},
   "outputs": [
    {
     "data": {
      "text/html": [
       "<div>\n",
       "<style scoped>\n",
       "    .dataframe tbody tr th:only-of-type {\n",
       "        vertical-align: middle;\n",
       "    }\n",
       "\n",
       "    .dataframe tbody tr th {\n",
       "        vertical-align: top;\n",
       "    }\n",
       "\n",
       "    .dataframe thead th {\n",
       "        text-align: right;\n",
       "    }\n",
       "</style>\n",
       "<table border=\"1\" class=\"dataframe\">\n",
       "  <thead>\n",
       "    <tr style=\"text-align: right;\">\n",
       "      <th></th>\n",
       "      <th>Student</th>\n",
       "      <th>Hindi</th>\n",
       "      <th>English</th>\n",
       "      <th>Maths</th>\n",
       "      <th>Science</th>\n",
       "      <th>Total</th>\n",
       "      <th>pct</th>\n",
       "    </tr>\n",
       "  </thead>\n",
       "  <tbody>\n",
       "    <tr>\n",
       "      <th>0</th>\n",
       "      <td>Anchal</td>\n",
       "      <td>45</td>\n",
       "      <td>85</td>\n",
       "      <td>34</td>\n",
       "      <td>34</td>\n",
       "      <td>198</td>\n",
       "      <td>49.50</td>\n",
       "    </tr>\n",
       "    <tr>\n",
       "      <th>1</th>\n",
       "      <td>Divyanshi</td>\n",
       "      <td>90</td>\n",
       "      <td>34</td>\n",
       "      <td>23</td>\n",
       "      <td>96</td>\n",
       "      <td>243</td>\n",
       "      <td>60.75</td>\n",
       "    </tr>\n",
       "    <tr>\n",
       "      <th>2</th>\n",
       "      <td>Priya</td>\n",
       "      <td>59</td>\n",
       "      <td>39</td>\n",
       "      <td>65</td>\n",
       "      <td>67</td>\n",
       "      <td>230</td>\n",
       "      <td>57.50</td>\n",
       "    </tr>\n",
       "    <tr>\n",
       "      <th>3</th>\n",
       "      <td>Anshika</td>\n",
       "      <td>45</td>\n",
       "      <td>23</td>\n",
       "      <td>56</td>\n",
       "      <td>23</td>\n",
       "      <td>147</td>\n",
       "      <td>36.75</td>\n",
       "    </tr>\n",
       "    <tr>\n",
       "      <th>4</th>\n",
       "      <td>Nikita</td>\n",
       "      <td>67</td>\n",
       "      <td>67</td>\n",
       "      <td>34</td>\n",
       "      <td>67</td>\n",
       "      <td>235</td>\n",
       "      <td>58.75</td>\n",
       "    </tr>\n",
       "    <tr>\n",
       "      <th>5</th>\n",
       "      <td>Gopal</td>\n",
       "      <td>49</td>\n",
       "      <td>34</td>\n",
       "      <td>45</td>\n",
       "      <td>34</td>\n",
       "      <td>162</td>\n",
       "      <td>40.50</td>\n",
       "    </tr>\n",
       "    <tr>\n",
       "      <th>6</th>\n",
       "      <td>Ankit</td>\n",
       "      <td>38</td>\n",
       "      <td>84</td>\n",
       "      <td>38</td>\n",
       "      <td>54</td>\n",
       "      <td>214</td>\n",
       "      <td>53.50</td>\n",
       "    </tr>\n",
       "    <tr>\n",
       "      <th>7</th>\n",
       "      <td>Shubhankar</td>\n",
       "      <td>67</td>\n",
       "      <td>34</td>\n",
       "      <td>23</td>\n",
       "      <td>67</td>\n",
       "      <td>191</td>\n",
       "      <td>47.75</td>\n",
       "    </tr>\n",
       "  </tbody>\n",
       "</table>\n",
       "</div>"
      ],
      "text/plain": [
       "      Student  Hindi  English  Maths  Science  Total    pct\n",
       "0      Anchal     45       85     34       34    198  49.50\n",
       "1   Divyanshi     90       34     23       96    243  60.75\n",
       "2       Priya     59       39     65       67    230  57.50\n",
       "3     Anshika     45       23     56       23    147  36.75\n",
       "4      Nikita     67       67     34       67    235  58.75\n",
       "5       Gopal     49       34     45       34    162  40.50\n",
       "6       Ankit     38       84     38       54    214  53.50\n",
       "7  Shubhankar     67       34     23       67    191  47.75"
      ]
     },
     "execution_count": 6,
     "metadata": {},
     "output_type": "execute_result"
    }
   ],
   "source": [
    "reportdf"
   ]
  },
  {
   "cell_type": "code",
   "execution_count": 7,
   "metadata": {},
   "outputs": [
    {
     "name": "stdout",
     "output_type": "stream",
     "text": [
      "Sum of Student hindi marks =  460\n",
      "Mean of Student hindi marks =  57.5\n",
      "Median of Student hindi marks =  54.0\n",
      "Standard deviation of Student hindi marks =  16.91997973656335\n"
     ]
    }
   ],
   "source": [
    "print(\"Sum of Student hindi marks = \",reportdf['Hindi'].sum())\n",
    "print(\"Mean of Student hindi marks = \",reportdf['Hindi'].mean())\n",
    "print(\"Median of Student hindi marks = \",reportdf['Hindi'].median())\n",
    "print(\"Standard deviation of Student hindi marks = \",reportdf['Hindi'].std())"
   ]
  },
  {
   "cell_type": "code",
   "execution_count": 8,
   "metadata": {},
   "outputs": [
    {
     "data": {
      "text/plain": [
       "<AxesSubplot: ylabel='Frequency'>"
      ]
     },
     "execution_count": 8,
     "metadata": {},
     "output_type": "execute_result"
    },
    {
     "data": {
      "image/png": "[encoded data removed]",
      "text/plain": [
       "<Figure size 360x216 with 1 Axes>"
      ]
     },
     "metadata": {
      "needs_background": "light"
     },
     "output_type": "display_data"
    }
   ],
   "source": [
    "reportdf['Hindi'].plot(kind='hist',bins=20,\n",
    "    edgecolor='red', color='green', figsize=(5,3), alpha=0.5, grid=True)"
   ]
  },
  {
   "cell_type": "code",
   "execution_count": 9,
   "metadata": {},
   "outputs": [
    {
     "data": {
      "text/plain": [
       "<AxesSubplot: ylabel='Frequency'>"
      ]
     },
     "execution_count": 9,
     "metadata": {},
     "output_type": "execute_result"
    },
    {
     "data": {
      "image/png": "[encoded data removed]",
      "text/plain": [
       "<Figure size 360x216 with 1 Axes>"
      ]
     },
     "metadata": {
      "needs_background": "light"
     },
     "output_type": "display_data"
    }
   ],
   "source": [
    "reportdf[['Hindi','English']].plot(kind='hist',bins=20,\n",
    "    edgecolor='red', color=['green','red'], figsize=(5,3), alpha=0.5, grid=True)"
   ]
  },
  {
   "cell_type": "code",
   "execution_count": 10,
   "metadata": {},
   "outputs": [
    {
     "data": {
      "image/png": "[encoded data removed]",
      "text/plain": [
       "<Figure size 360x360 with 2 Axes>"
      ]
     },
     "metadata": {
      "needs_background": "light"
     },
     "output_type": "display_data"
    }
   ],
   "source": [
    "reportdf[['Hindi','English']].plot(kind='hist',bins=20,\n",
    "    edgecolor='red', color=['green','red'], figsize=(5,5), alpha=0.5, subplots=True)\n",
    "plt.show()"
   ]
  },
  {
   "cell_type": "code",
   "execution_count": 11,
   "metadata": {},
   "outputs": [
    {
     "data": {
      "image/png": "[encoded data removed]",
      "text/plain": [
       "<Figure size 360x360 with 2 Axes>"
      ]
     },
     "metadata": {
      "needs_background": "light"
     },
     "output_type": "display_data"
    }
   ],
   "source": [
    "reportdf[['Hindi','English']].plot(kind='area',\n",
    "    color=['green','red'], figsize=(5,5), alpha=0.5, subplots=True)\n",
    "plt.show()"
   ]
  },
  {
   "cell_type": "code",
   "execution_count": null,
   "metadata": {},
   "outputs": [],
   "source": []
  }
 ],
 "metadata": {
  "kernelspec": {
   "display_name": "Python 3.9.13 ('base')",
   "language": "python",
   "name": "python3"
  },
  "language_info": {
   "codemirror_mode": {
    "name": "ipython",
    "version": 3
   },
   "file_extension": ".py",
   "mimetype": "text/x-python",
   "name": "python",
   "nbconvert_exporter": "python",
   "pygments_lexer": "ipython3",
   "version": "3.9.13"
  },
  "orig_nbformat": 4,
  "vscode": {
   "interpreter": {
    "hash": "203ec5af3e26acf3e3c83a4183d4b4efe59642f60e2721ccf6236536a59ece46"
   }
  }
 },
 "nbformat": 4,
 "nbformat_minor": 2
}
